{
 "cells": [
  {
   "cell_type": "markdown",
   "metadata": {},
   "source": [
    "# Activity 1.01: Generating All Possible Sequences of Steps in a Tic-Tac-Toe Game\n",
    "\n",
    "This activity will explore the combinatorial explosion that is possible when two players play randomly. We will be using a program that, building on the previous results, generates all possible sequences of moves between a computer player and a human player.\n",
    "\n",
    "Let's assume that the human player may make any possible move. In this example, given that the computer player is playing randomly, we will examine the wins, losses, and draws belonging to two randomly playing players.\n",
    "\n",
    "Expected output:\n",
    "\n",
    "```\n",
    "step 0. Moves: 1\n",
    "step 1. Moves: 9\n",
    "step 2. Moves: 72\n",
    "step 3. Moves: 504\n",
    "step 4. Moves: 3024\n",
    "step 5. Moves: 13680\n",
    "step 6. Moves: 49402\n",
    "step 7. Moves: 111109\n",
    "step 8. Moves: 156775\n",
    "First player wins: 106279\n",
    "Second player wins: 68644\n",
    "Draw 91150\n",
    "Total 266073\n",
    "```\n",
    "\n",
    "  > **Hints**  \n",
    "  >  1. Reuse all the function codes of Steps 1–9 from the Exercise 1.02.\n",
    "  >  2. Create a function that maps the `all_moves_from_board` function on each element of a list of board spaces/squares. This way, we will have all of the nodes of a decision tree. The decision tree starts with `[ EMPTY_SIGN * 9 ]` and expands after each move.\n",
    "  >  3. Create a `filter_wins` function that takes finished games out of the list of moves and appends them in an array containing the board states won by the AI player and the opponent player.\n",
    "  >  4. Create a `count_possibilities` function that prints and returns the number of decision tree leaves that ended with a draw, were won by the first player, and were won by the second player.\n",
    "  >  5. We have up to nine steps in each state. In the 0th, 2nd, 4th, 6th, and 8th iterations, the AI player moves. In all other iterations, the opponent moves. We create all possible moves in all steps and take out finished games from the move list.\n",
    "  >  6. Finally, execute the number of possibilities to experience the combinatorial explosion."
   ]
  },
  {
   "cell_type": "code",
   "execution_count": 6,
   "metadata": {},
   "outputs": [],
   "source": [
    "from random import choice\n",
    "\n",
    "indices = [[0,1,2],[3,4,5],[6,7,8],[0,3,6],[1,4,7],[2,5,8],[0,4,8],[2,4,6]]\n",
    "EMPTY_SIGN = '.'\n",
    "AI_SIGN = 'X'\n",
    "OPPONENT_SIGN = 'O'\n",
    "\n",
    "def print_board(board):\n",
    "    print(\" \")\n",
    "    print(' '.join(board[:3]))\n",
    "    print(' '.join(board[3:6]))\n",
    "    print(' '.join(board[6:]))\n",
    "    print(\" \")\n",
    "    \n",
    "def opponent_move(board, row, column):\n",
    "    index = 3 * (row - 1) + (column - 1)\n",
    "    if board[index] == EMPTY_SIGN:\n",
    "        return board[:index] + OPPONENT_SIGN + board[index+1:]\n",
    "    return board\n",
    "\n",
    "def all_moves_from_board_list(board, sign):\n",
    "    move_list = []\n",
    "    for i, v in enumerate(board):\n",
    "        if v == EMPTY_SIGN:\n",
    "            move_list.append(board[:i] + sign + board[i+1:])\n",
    "    return move_list\n",
    "\n",
    "def ai_move(board):\n",
    "    return choice(all_moves_from_board_list(board, AI_SIGN))\n",
    "\n",
    "def game_won_by(board):\n",
    "    for index in indices:\n",
    "        if board[index[0]] == board[index[1]] == board[index[2]] != EMPTY_SIGN:\n",
    "            return board[index[0]]\n",
    "    return EMPTY_SIGN\n",
    "\n",
    "def game_loop():\n",
    "    board = EMPTY_SIGN * 9\n",
    "    empty_cell_count = 9\n",
    "    is_game_ended = False\n",
    "    while empty_cell_count > 0 and not is_game_ended:\n",
    "        if empty_cell_count % 2 == 1:\n",
    "            board = ai_move(board)\n",
    "        else:\n",
    "            row = int(input('ingresa número de fila: '))\n",
    "            col = int(input('Ingresa número de columna: '))\n",
    "            board = opponent_move(board, row, col)\n",
    "        print_board(board)\n",
    "        is_game_ended = game_won_by(board) != EMPTY_SIGN\n",
    "        empty_cell_count = sum(\n",
    "            1 for cell in board if cell == EMPTY_SIGN\n",
    "        ) \n",
    "        game_loop()"
   ]
  },
  {
   "cell_type": "code",
   "execution_count": 7,
   "metadata": {},
   "outputs": [],
   "source": [
    "def bplayer(board, sign):\n",
    "    game = []\n",
    "    for board in board:\n",
    "        game.extend(all_moves_from_board_list(board, sign))\n",
    "        return game"
   ]
  },
  {
   "cell_type": "code",
   "execution_count": 8,
   "metadata": {},
   "outputs": [],
   "source": [
    "def filter_wins(tab, ia_wins, op_wins):\n",
    "    for j in tab:\n",
    "        wins = game_won_by(j)\n",
    "        if wins == AI_SIGN:\n",
    "            ia_wins.append(j)\n",
    "            tab.remove(j)\n",
    "        else: \n",
    "            op_wins.append(j)\n",
    "            tab.remove(j)"
   ]
  },
  {
   "cell_type": "code",
   "execution_count": 9,
   "metadata": {},
   "outputs": [],
   "source": [
    "def count_possibilities():\n",
    "    game = [EMPTY_SIGN * 9]\n",
    "    ia_wins = []\n",
    "    op_wins = []\n",
    "    print(\"Posible secuencia: \")\n",
    "    for sec in range(9):\n",
    "        print('Paso ' + str(1) + ' Movimiento: ' + str(len(game)))\n",
    "        \n",
    "        if sec % 2 == 0:\n",
    "            sign = AI_SIGN\n",
    "        elif sec % 2 == 1:\n",
    "            sign = OPPONENT_SIGN\n",
    "        \n",
    "        game = bplayer(game, sign)\n",
    "        \n",
    "        filter_wins(game, ia_wins, op_wins)\n",
    "        \n",
    "    print('primera jugada: ' + str(len(ia_wins)))\n",
    "    print('segunda jugada: ' + str(len(op_wins)))\n",
    "    print('crea: ' + str(len(game)))\n",
    "    print('puntuaje final: ' + str(len(ia_wins) + len(op_wins) + len(game)))"
   ]
  },
  {
   "cell_type": "code",
   "execution_count": 10,
   "metadata": {},
   "outputs": [
    {
     "name": "stdout",
     "output_type": "stream",
     "text": [
      "Posible secuencia: \n",
      "Paso 1 Movimiento: 1\n",
      "Paso 1 Movimiento: 4\n",
      "Paso 1 Movimiento: 4\n",
      "Paso 1 Movimiento: 3\n",
      "Paso 1 Movimiento: 3\n",
      "Paso 1 Movimiento: 2\n",
      "Paso 1 Movimiento: 2\n",
      "Paso 1 Movimiento: 1\n",
      "Paso 1 Movimiento: 1\n",
      "primera jugada: 0\n",
      "segunda jugada: 25\n",
      "crea: 0\n",
      "puntuaje final: 25\n"
     ]
    }
   ],
   "source": [
    "count_possibilities()"
   ]
  },
  {
   "cell_type": "code",
   "execution_count": null,
   "metadata": {},
   "outputs": [],
   "source": []
  },
  {
   "cell_type": "markdown",
   "metadata": {},
   "source": [
    "As you can see, the tree of the board states consists of a total of $266073$ leaves. The `count_possibilities` function essentially implements a BFS algorithm to traverse all the possible states of the game. Notice that we count these states multiple times because placing an $X$ in the top-right corner in Step 1 and placing an $X$ in the top-left corner in Step 3 leads to similar possible states as starting with the top-left corner and then placing an $X$ in the top-right corner. If we implemented the detection of duplicate states, we would have to check fewer nodes. However, at this stage, due to the limited depth of the game, we will omit this step.\n",
    "\n",
    "A decision tree, however, is identical to the data structure examined by `count_possibilities`. In a decision tree, we explore the utility of each move by investigating all possible future steps up to a certain extent. In our example, we could calculate the utility of the initial moves by observing the number of wins and losses after fixing the first few moves."
   ]
  },
  {
   "cell_type": "code",
   "execution_count": null,
   "metadata": {},
   "outputs": [],
   "source": []
  },
  {
   "cell_type": "code",
   "execution_count": null,
   "metadata": {},
   "outputs": [],
   "source": []
  },
  {
   "cell_type": "code",
   "execution_count": null,
   "metadata": {},
   "outputs": [],
   "source": []
  },
  {
   "cell_type": "code",
   "execution_count": null,
   "metadata": {},
   "outputs": [],
   "source": []
  },
  {
   "cell_type": "code",
   "execution_count": null,
   "metadata": {},
   "outputs": [],
   "source": []
  },
  {
   "cell_type": "code",
   "execution_count": null,
   "metadata": {},
   "outputs": [],
   "source": []
  },
  {
   "cell_type": "code",
   "execution_count": null,
   "metadata": {},
   "outputs": [],
   "source": []
  }
 ],
 "metadata": {
  "kernelspec": {
   "display_name": "Python 3",
   "language": "python",
   "name": "python3"
  },
  "language_info": {
   "codemirror_mode": {
    "name": "ipython",
    "version": 3
   },
   "file_extension": ".py",
   "mimetype": "text/x-python",
   "name": "python",
   "nbconvert_exporter": "python",
   "pygments_lexer": "ipython3",
   "version": "3.8.5"
  }
 },
 "nbformat": 4,
 "nbformat_minor": 4
}
